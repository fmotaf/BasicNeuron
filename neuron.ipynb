{
  "cells": [
    {
      "cell_type": "code",
      "execution_count": 2,
      "metadata": {
        "colab": {
          "base_uri": "https://localhost:8080/"
        },
        "id": "MGTeXJhMw3IR",
        "outputId": "6e718539-f58c-4700-be40-e8636203304e"
      },
      "outputs": [
        {
          "name": "stdout",
          "output_type": "stream",
          "text": [
            "Did not converge within the maximum epochs.\n",
            "\n",
            "Pesos finais: [-8.25091976  9.47254861 19.16190788 -2.56794303]\n",
            "\n",
            "Predições vs Testes:\n",
            "Entrada: [-1.     -0.1147  0.2242  7.2435] -> Predição: -1, Teste: -1.0\n",
            "Entrada: [-1.     -0.797   0.8795  3.8762] -> Predição: 1, Teste: 1.0\n",
            "Entrada: [-1.     -1.0625  0.6366  2.4707] -> Predição: 1, Teste: 1.0\n",
            "Entrada: [-1.      0.5307  0.1285  5.6883] -> Predição: 1, Teste: 1.0\n",
            "Entrada: [-1.     -1.22    0.7777  1.7252] -> Predição: 1, Teste: 1.0\n",
            "Entrada: [-1.      0.3957  0.1076  5.6623] -> Predição: -1, Teste: -1.0\n",
            "Entrada: [-1.     -0.1013  0.5989  7.1812] -> Predição: 1, Teste: -1.0\n",
            "Entrada: [-1.      2.4482  0.9455 11.2095] -> Predição: 1, Teste: 1.0\n",
            "Entrada: [-1.      2.0149  0.6192 10.9263] -> Predição: 1, Teste: -1.0\n",
            "Entrada: [-1.      0.2012  0.2611  5.4631] -> Predição: 1, Teste: 1.0\n",
            "Acurácia = 8/10\n"
          ]
        }
      ],
      "source": [
        "import numpy as np\n",
        "\n",
        "# Função de ativação bipolar\n",
        "def bipolar_step(weighted_sum):\n",
        "    return 1 if weighted_sum >= 0 else -1\n",
        "\n",
        "# Carregando dados\n",
        "train = np.loadtxt('sample_data/data.txt')\n",
        "X = train[:, :-1]\n",
        "y = train[:, -1]\n",
        "\n",
        "test = np.loadtxt('sample_data/test.txt')\n",
        "X_test = test[:, :-1]\n",
        "y_test = test[:, -1]\n",
        "\n",
        "# Inicializar pesos\n",
        "np.random.seed(42)\n",
        "weights = np.random.uniform(-1, 1, X.shape[1])\n",
        "\n",
        "# Parâmetros de treinamento\n",
        "learning_rate = 0.1\n",
        "max_epochs = 100\n",
        "converged = False\n",
        "\n",
        "# Treinamento\n",
        "for epoch in range(max_epochs):\n",
        "    total_error = 0\n",
        "    for xi, target in zip(X, y):\n",
        "        weighted_sum = np.dot(xi, weights)\n",
        "        output = bipolar_step(weighted_sum)\n",
        "        error = target - output\n",
        "        total_error += abs(error)\n",
        "        weights += learning_rate * error * xi\n",
        "    if total_error == 0:\n",
        "        print(f\"Converged after {epoch + 1} epochs.\")\n",
        "        converged = True\n",
        "        break\n",
        "\n",
        "if not converged:\n",
        "    print(\"Did not converge within the maximum epochs.\")\n",
        "\n",
        "\n",
        "# Teste com dados de teste\n",
        "print(\"\\nPesos finais:\", weights)\n",
        "print(\"\\nPredições vs Testes:\")\n",
        "correct_predictions = 0\n",
        "\n",
        "for xi, target in zip(X_test, y_test):\n",
        "    prediction = bipolar_step(np.dot(xi, weights))\n",
        "    print(f\"Entrada: {xi} -> Predição: {prediction}, Teste: {target}\")\n",
        "    if prediction == target:\n",
        "        correct_predictions += 1\n",
        "\n",
        "print(f\"Acurácia = {correct_predictions}/{len(y_test)}\")"
      ]
    }
  ],
  "metadata": {
    "colab": {
      "provenance": []
    },
    "kernelspec": {
      "display_name": "venv",
      "language": "python",
      "name": "python3"
    },
    "language_info": {
      "codemirror_mode": {
        "name": "ipython",
        "version": 3
      },
      "file_extension": ".py",
      "mimetype": "text/x-python",
      "name": "python",
      "nbconvert_exporter": "python",
      "pygments_lexer": "ipython3",
      "version": "3.12.3"
    }
  },
  "nbformat": 4,
  "nbformat_minor": 0
}
