{
  "cells": [
    {
      "cell_type": "code",
      "execution_count": 1,
      "metadata": {
        "colab": {
          "base_uri": "https://localhost:8080/"
        },
        "id": "MGTeXJhMw3IR",
        "outputId": "6e718539-f58c-4700-be40-e8636203304e"
      },
      "outputs": [
        {
          "ename": "ModuleNotFoundError",
          "evalue": "No module named 'numpy'",
          "output_type": "error",
          "traceback": [
            "\u001b[31m---------------------------------------------------------------------------\u001b[39m",
            "\u001b[31mModuleNotFoundError\u001b[39m                       Traceback (most recent call last)",
            "\u001b[36mCell\u001b[39m\u001b[36m \u001b[39m\u001b[32mIn[1]\u001b[39m\u001b[32m, line 1\u001b[39m\n\u001b[32m----> \u001b[39m\u001b[32m1\u001b[39m \u001b[38;5;28;01mimport\u001b[39;00m\u001b[38;5;250m \u001b[39m\u001b[34;01mnumpy\u001b[39;00m\u001b[38;5;250m \u001b[39m\u001b[38;5;28;01mas\u001b[39;00m\u001b[38;5;250m \u001b[39m\u001b[34;01mnp\u001b[39;00m\n\u001b[32m      3\u001b[39m \u001b[38;5;66;03m# Bipolar Step Activation Function\u001b[39;00m\n\u001b[32m      4\u001b[39m \u001b[38;5;28;01mdef\u001b[39;00m\u001b[38;5;250m \u001b[39m\u001b[34mbipolar_step\u001b[39m(weighted_sum):\n",
            "\u001b[31mModuleNotFoundError\u001b[39m: No module named 'numpy'"
          ]
        }
      ],
      "source": [
        "import numpy as np\n",
        "\n",
        "# Bipolar Step Activation Function\n",
        "def bipolar_step(weighted_sum):\n",
        "    return 1 if weighted_sum >= 0 else -1\n",
        "\n",
        "# Carregando dados\n",
        "train = np.loadtxt('sample_data/data.txt')\n",
        "X = train[:, :-1]\n",
        "y = train[:, -1]\n",
        "\n",
        "test = np.loadtxt('sample_data/test.txt')\n",
        "X_test = test[:, :-1]\n",
        "y_test = test[:, -1]\n",
        "\n",
        "# Inicializar pesos\n",
        "np.random.seed(42)\n",
        "weights = np.random.uniform(-1, 1, X.shape[1])\n",
        "\n",
        "# Parâmetros de treinamento\n",
        "learning_rate = 0.1\n",
        "max_epochs = 100\n",
        "converged = False\n",
        "\n",
        "# Treinamento\n",
        "for epoch in range(max_epochs):\n",
        "    total_error = 0\n",
        "    for xi, target in zip(X, y):\n",
        "        weighted_sum = np.dot(xi, weights)\n",
        "        output = bipolar_step(weighted_sum)\n",
        "        error = target - output\n",
        "        total_error += abs(error)\n",
        "        weights += learning_rate * error * xi\n",
        "    if total_error == 0:\n",
        "        print(f\"Converged after {epoch + 1} epochs.\")\n",
        "        converged = True\n",
        "        break\n",
        "\n",
        "if not converged:\n",
        "    print(\"Did not converge within the maximum epochs.\")\n",
        "\n",
        "\n",
        "# Teste com dados de teste\n",
        "print(\"\\nPesos finais:\", weights)\n",
        "print(\"\\nPredições vs Testes:\")\n",
        "correct_predictions = 0\n",
        "\n",
        "for xi, target in zip(X_test, y_test):\n",
        "    prediction = bipolar_step(np.dot(xi, weights))\n",
        "    print(f\"Entrada: {xi} -> Predição: {prediction}, Teste: {target}\")\n",
        "    if prediction == target:\n",
        "        correct_predictions += 1\n",
        "\n",
        "print(f\"Acurácia = {correct_predictions}/{len(y_test)}\")"
      ]
    }
  ],
  "metadata": {
    "colab": {
      "provenance": []
    },
    "kernelspec": {
      "display_name": "Python 3",
      "name": "python3"
    },
    "language_info": {
      "codemirror_mode": {
        "name": "ipython",
        "version": 3
      },
      "file_extension": ".py",
      "mimetype": "text/x-python",
      "name": "python",
      "nbconvert_exporter": "python",
      "pygments_lexer": "ipython3",
      "version": "3.12.3"
    }
  },
  "nbformat": 4,
  "nbformat_minor": 0
}
